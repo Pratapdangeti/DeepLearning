{
 "cells": [
  {
   "cell_type": "code",
   "execution_count": 1,
   "metadata": {
    "collapsed": true
   },
   "outputs": [],
   "source": [
    "import tensorflow as tf\n",
    "import numpy\n",
    "import matplotlib.pyplot as plt\n",
    "rng = numpy.random"
   ]
  },
  {
   "cell_type": "code",
   "execution_count": 2,
   "metadata": {
    "collapsed": true
   },
   "outputs": [],
   "source": [
    "# Parameters\n",
    "learning_rate = 0.01\n",
    "training_epochs = 2000\n",
    "display_step = 50"
   ]
  },
  {
   "cell_type": "code",
   "execution_count": 4,
   "metadata": {
    "collapsed": true
   },
   "outputs": [],
   "source": [
    "# Training Data\n",
    "train_X = numpy.asarray([3.3,4.4,5.5,6.71,6.93,4.168,9.779,6.182,7.59,2.167,7.042,10.791,5.313,7.997,5.654,9.27,3.1])\n",
    "train_Y = numpy.asarray([1.7,2.76,2.09,3.19,1.694,1.573,3.366,2.596,2.53,1.221,2.827,3.465,1.65,2.904,2.42,2.94,1.3])\n",
    "\n",
    "n_samples = train_X.shape[0]\n"
   ]
  },
  {
   "cell_type": "code",
   "execution_count": 6,
   "metadata": {
    "collapsed": true
   },
   "outputs": [],
   "source": [
    "X = tf.placeholder(\"float\")\n",
    "Y = tf.placeholder(\"float\")"
   ]
  },
  {
   "cell_type": "code",
   "execution_count": 7,
   "metadata": {
    "collapsed": true
   },
   "outputs": [],
   "source": [
    "W = tf.Variable(rng.randn(),name = \"weight\")\n",
    "b = tf.Variable(rng.randn(),name = \"bias\")"
   ]
  },
  {
   "cell_type": "code",
   "execution_count": 8,
   "metadata": {
    "collapsed": true
   },
   "outputs": [],
   "source": [
    "activation = tf.add(tf.mul(X,W),b)"
   ]
  },
  {
   "cell_type": "code",
   "execution_count": 9,
   "metadata": {
    "collapsed": true
   },
   "outputs": [],
   "source": [
    "cost = tf.reduce_sum(tf.pow(activation-Y,2))/(2*n_samples)\n",
    "optimizer = tf.train.GradientDescentOptimizer(learning_rate).minimize(cost)"
   ]
  },
  {
   "cell_type": "code",
   "execution_count": 10,
   "metadata": {
    "collapsed": false
   },
   "outputs": [
    {
     "name": "stdout",
     "output_type": "stream",
     "text": [
      "WARNING:tensorflow:From <ipython-input-10-0f50547c66e8>:1 in <module>.: initialize_all_variables (from tensorflow.python.ops.variables) is deprecated and will be removed after 2017-03-02.\n",
      "Instructions for updating:\n",
      "Use `tf.global_variables_initializer` instead.\n"
     ]
    }
   ],
   "source": [
    "init = tf.initialize_all_variables()"
   ]
  },
  {
   "cell_type": "code",
   "execution_count": 11,
   "metadata": {
    "collapsed": false
   },
   "outputs": [
    {
     "name": "stdout",
     "output_type": "stream",
     "text": [
      "Epoch: 0001 cost= 3.730157137 W= 0.0479107 b= -0.592829\n",
      "Epoch: 0051 cost= 0.174995691 W= 0.424656 b= -0.457917\n",
      "Epoch: 0101 cost= 0.163670108 W= 0.414244 b= -0.383016\n",
      "Epoch: 0151 cost= 0.153652534 W= 0.404451 b= -0.312569\n",
      "Epoch: 0201 cost= 0.144791871 W= 0.395241 b= -0.246312\n",
      "Epoch: 0251 cost= 0.136954635 W= 0.386579 b= -0.183996\n",
      "Epoch: 0301 cost= 0.130022630 W= 0.378432 b= -0.125385\n",
      "Epoch: 0351 cost= 0.123891324 W= 0.370769 b= -0.0702609\n",
      "Epoch: 0401 cost= 0.118468329 W= 0.363562 b= -0.0184152\n",
      "Epoch: 0451 cost= 0.113671795 W= 0.356784 b= 0.030347\n",
      "Epoch: 0501 cost= 0.109429404 W= 0.350409 b= 0.0762091\n",
      "Epoch: 0551 cost= 0.105677173 W= 0.344413 b= 0.119343\n",
      "Epoch: 0601 cost= 0.102358505 W= 0.338774 b= 0.159913\n",
      "Epoch: 0651 cost= 0.099423304 W= 0.33347 b= 0.198069\n",
      "Epoch: 0701 cost= 0.096827313 W= 0.328481 b= 0.233956\n",
      "Epoch: 0751 cost= 0.094531357 W= 0.323789 b= 0.267708\n",
      "Epoch: 0801 cost= 0.092500761 W= 0.319376 b= 0.299454\n",
      "Epoch: 0851 cost= 0.090704888 W= 0.315226 b= 0.329311\n",
      "Epoch: 0901 cost= 0.089116633 W= 0.311323 b= 0.357392\n",
      "Epoch: 0951 cost= 0.087711975 W= 0.307651 b= 0.383804\n",
      "Epoch: 1001 cost= 0.086469784 W= 0.304198 b= 0.408644\n",
      "Epoch: 1051 cost= 0.085371271 W= 0.300951 b= 0.432006\n",
      "Epoch: 1101 cost= 0.084399782 W= 0.297896 b= 0.453979\n",
      "Epoch: 1151 cost= 0.083540626 W= 0.295024 b= 0.474646\n",
      "Epoch: 1201 cost= 0.082780898 W= 0.292322 b= 0.494084\n",
      "Epoch: 1251 cost= 0.082109116 W= 0.28978 b= 0.512365\n",
      "Epoch: 1301 cost= 0.081515029 W= 0.28739 b= 0.52956\n",
      "Epoch: 1351 cost= 0.080989704 W= 0.285142 b= 0.545731\n",
      "Epoch: 1401 cost= 0.080525227 W= 0.283028 b= 0.560941\n",
      "Epoch: 1451 cost= 0.080114476 W= 0.281039 b= 0.575247\n",
      "Epoch: 1501 cost= 0.079751320 W= 0.279169 b= 0.588703\n",
      "Epoch: 1551 cost= 0.079430245 W= 0.27741 b= 0.601357\n",
      "Epoch: 1601 cost= 0.079146340 W= 0.275756 b= 0.613259\n",
      "Epoch: 1651 cost= 0.078895405 W= 0.2742 b= 0.624452\n",
      "Epoch: 1701 cost= 0.078673542 W= 0.272736 b= 0.634979\n",
      "Epoch: 1751 cost= 0.078477427 W= 0.27136 b= 0.64488\n",
      "Epoch: 1801 cost= 0.078304067 W= 0.270066 b= 0.654191\n",
      "Epoch: 1851 cost= 0.078150786 W= 0.268848 b= 0.662949\n",
      "Epoch: 1901 cost= 0.078015305 W= 0.267703 b= 0.671187\n",
      "Epoch: 1951 cost= 0.077895559 W= 0.266626 b= 0.678935\n",
      "Optimization Finished!\n",
      "cost = 0.0777917 W= 0.265633 b= 0.686082\n"
     ]
    }
   ],
   "source": [
    "with tf.Session() as sess:\n",
    "    sess.run(init)\n",
    "    \n",
    "    for epoch in range(training_epochs):\n",
    "        for(x,y) in zip(train_X,train_Y):\n",
    "            sess.run(optimizer,feed_dict={X:x,Y:y})\n",
    "            \n",
    "        if epoch % display_step == 0:\n",
    "            print \"Epoch:\",'%04d'%(epoch+1),\"cost=\",\\\n",
    "                \"{:.9f}\".format(sess.run(cost,feed_dict={X:train_X,Y:train_Y})),\\\n",
    "                \"W=\",sess.run(W),\"b=\",sess.run(b)\n",
    "    print \"Optimization Finished!\"\n",
    "    print \"cost =\",sess.run(cost,feed_dict={X:train_X,Y:train_Y}),\\\n",
    "            \"W=\",sess.run(W),\"b=\",sess.run(b)\n",
    "    \n",
    "    plt.plot(train_X,train_Y,'ro',label = 'Original data')\n",
    "    plt.plot(train_X,sess.run(W)*train_X+sess.run(b),label= 'Fitted line')\n",
    "    plt.legend()\n",
    "    plt.show()\n",
    "    "
   ]
  },
  {
   "cell_type": "code",
   "execution_count": null,
   "metadata": {
    "collapsed": true
   },
   "outputs": [],
   "source": []
  },
  {
   "cell_type": "code",
   "execution_count": null,
   "metadata": {
    "collapsed": true
   },
   "outputs": [],
   "source": []
  },
  {
   "cell_type": "code",
   "execution_count": null,
   "metadata": {
    "collapsed": true
   },
   "outputs": [],
   "source": []
  },
  {
   "cell_type": "code",
   "execution_count": null,
   "metadata": {
    "collapsed": true
   },
   "outputs": [],
   "source": []
  },
  {
   "cell_type": "code",
   "execution_count": null,
   "metadata": {
    "collapsed": true
   },
   "outputs": [],
   "source": []
  },
  {
   "cell_type": "code",
   "execution_count": null,
   "metadata": {
    "collapsed": true
   },
   "outputs": [],
   "source": []
  },
  {
   "cell_type": "code",
   "execution_count": null,
   "metadata": {
    "collapsed": true
   },
   "outputs": [],
   "source": []
  },
  {
   "cell_type": "code",
   "execution_count": null,
   "metadata": {
    "collapsed": true
   },
   "outputs": [],
   "source": []
  },
  {
   "cell_type": "code",
   "execution_count": null,
   "metadata": {
    "collapsed": true
   },
   "outputs": [],
   "source": []
  },
  {
   "cell_type": "code",
   "execution_count": null,
   "metadata": {
    "collapsed": true
   },
   "outputs": [],
   "source": []
  },
  {
   "cell_type": "code",
   "execution_count": null,
   "metadata": {
    "collapsed": true
   },
   "outputs": [],
   "source": []
  },
  {
   "cell_type": "code",
   "execution_count": null,
   "metadata": {
    "collapsed": true
   },
   "outputs": [],
   "source": []
  },
  {
   "cell_type": "code",
   "execution_count": null,
   "metadata": {
    "collapsed": true
   },
   "outputs": [],
   "source": []
  }
 ],
 "metadata": {
  "kernelspec": {
   "display_name": "Python [Root]",
   "language": "python",
   "name": "Python [Root]"
  },
  "language_info": {
   "codemirror_mode": {
    "name": "ipython",
    "version": 2
   },
   "file_extension": ".py",
   "mimetype": "text/x-python",
   "name": "python",
   "nbconvert_exporter": "python",
   "pygments_lexer": "ipython2",
   "version": "2.7.12"
  }
 },
 "nbformat": 4,
 "nbformat_minor": 0
}
